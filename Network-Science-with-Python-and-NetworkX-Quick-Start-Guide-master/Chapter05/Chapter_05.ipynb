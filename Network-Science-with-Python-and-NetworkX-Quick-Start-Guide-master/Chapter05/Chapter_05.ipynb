{
 "cells": [
  {
   "cell_type": "markdown",
   "metadata": {},
   "source": [
    "# Chapter 5 - The Small Scale: Nodes and Centrality#"
   ]
  },
  {
   "cell_type": "code",
   "execution_count": 1,
   "metadata": {},
   "outputs": [],
   "source": [
    "# Configure plotting in Jupyter\n",
    "from matplotlib import pyplot as plt\n",
    "%matplotlib inline\n",
    "plt.rcParams.update({\n",
    "    'figure.figsize': (7.5, 7.5),\n",
    "    'axes.spines.right': False,\n",
    "    'axes.spines.left': False,\n",
    "    'axes.spines.top': False,\n",
    "    'axes.spines.bottom': False})\n",
    "# Seed random number generator\n",
    "from numpy import random as nprand\n",
    "seed = hash(\"Network Science in Python\") % 2**32\n",
    "nprand.seed(seed)"
   ]
  },
  {
   "cell_type": "code",
   "execution_count": 2,
   "metadata": {},
   "outputs": [],
   "source": [
    "import networkx as nx"
   ]
  },
  {
   "cell_type": "code",
   "execution_count": 3,
   "metadata": {},
   "outputs": [],
   "source": [
    "# Create empty affiliation network and list of people\n",
    "B = nx.Graph()\n",
    "people = set()\n",
    "# Load data file into network\n",
    "from pathlib import Path\n",
    "data_dir = Path('.') / 'data'\n",
    "with open(data_dir / 'crossley2012' / '50_ALL_2M.csv') as f:\n",
    "    # Parse header\n",
    "    events = next(f).strip().split(\",\")[1:]\n",
    "    # Parse rows\n",
    "    for row in f:\n",
    "        parts = row.strip().split(\",\")\n",
    "        person = parts[0]\n",
    "        people.add(person)\n",
    "        for j, value in enumerate(parts[1:]):\n",
    "            if value != \"0\":\n",
    "                B.add_edge(person, events[j], weight=int(value))\n",
    "# Project into person-person co-affilation network\n",
    "from networkx import bipartite\n",
    "G = bipartite.projected_graph(B, people)"
   ]
  },
  {
   "cell_type": "code",
   "execution_count": 5,
   "metadata": {},
   "outputs": [
    {
     "ename": "KeyboardInterrupt",
     "evalue": "",
     "output_type": "error",
     "traceback": [
      "\u001b[0;31m---------------------------------------------------------------------------\u001b[0m",
      "\u001b[0;31mKeyboardInterrupt\u001b[0m                         Traceback (most recent call last)",
      "\u001b[1;32m/Users/NathanBick/Documents/Graduate School/MATH517 - Social Network Analysis/Network-Science-with-Python-and-NetworkX-Quick-Start-Guide-master/Chapter05/Chapter_05.ipynb Cell 5'\u001b[0m in \u001b[0;36m<cell line: 1>\u001b[0;34m()\u001b[0m\n\u001b[0;32m----> <a href='vscode-notebook-cell:/Users/NathanBick/Documents/Graduate%20School/MATH517%20-%20Social%20Network%20Analysis/Network-Science-with-Python-and-NetworkX-Quick-Start-Guide-master/Chapter05/Chapter_05.ipynb#ch0000004?line=0'>1</a>\u001b[0m betweenness \u001b[39m=\u001b[39m nx\u001b[39m.\u001b[39;49mbetweenness_centrality(G, normalized\u001b[39m=\u001b[39;49m\u001b[39mFalse\u001b[39;49;00m)\n\u001b[1;32m      <a href='vscode-notebook-cell:/Users/NathanBick/Documents/Graduate%20School/MATH517%20-%20Social%20Network%20Analysis/Network-Science-with-Python-and-NetworkX-Quick-Start-Guide-master/Chapter05/Chapter_05.ipynb#ch0000004?line=1'>2</a>\u001b[0m \u001b[39msorted\u001b[39m(betweenness\u001b[39m.\u001b[39mitems(), key\u001b[39m=\u001b[39m\u001b[39mlambda\u001b[39;00m x:x[\u001b[39m1\u001b[39m], reverse\u001b[39m=\u001b[39m\u001b[39mTrue\u001b[39;00m)[\u001b[39m0\u001b[39m:\u001b[39m10\u001b[39m]\n",
      "File \u001b[0;32m<class 'networkx.utils.decorators.argmap'> compilation 4:4\u001b[0m, in \u001b[0;36margmap_betweenness_centrality_1\u001b[0;34m(G, k, normalized, weight, endpoints, seed)\u001b[0m\n\u001b[1;32m      2\u001b[0m \u001b[39mimport\u001b[39;00m \u001b[39mcollections\u001b[39;00m\n\u001b[1;32m      3\u001b[0m \u001b[39mimport\u001b[39;00m \u001b[39mgzip\u001b[39;00m\n\u001b[0;32m----> 4\u001b[0m \u001b[39mimport\u001b[39;00m \u001b[39minspect\u001b[39;00m\n\u001b[1;32m      5\u001b[0m \u001b[39mimport\u001b[39;00m \u001b[39mitertools\u001b[39;00m\n\u001b[1;32m      6\u001b[0m \u001b[39mimport\u001b[39;00m \u001b[39mre\u001b[39;00m\n",
      "File \u001b[0;32m~/miniconda3/envs/network/lib/python3.10/site-packages/networkx/algorithms/centrality/betweenness.py:130\u001b[0m, in \u001b[0;36mbetweenness_centrality\u001b[0;34m(G, k, normalized, weight, endpoints, seed)\u001b[0m\n\u001b[1;32m    127\u001b[0m \u001b[39mfor\u001b[39;00m s \u001b[39min\u001b[39;00m nodes:\n\u001b[1;32m    128\u001b[0m     \u001b[39m# single source shortest paths\u001b[39;00m\n\u001b[1;32m    129\u001b[0m     \u001b[39mif\u001b[39;00m weight \u001b[39mis\u001b[39;00m \u001b[39mNone\u001b[39;00m:  \u001b[39m# use BFS\u001b[39;00m\n\u001b[0;32m--> 130\u001b[0m         S, P, sigma, _ \u001b[39m=\u001b[39m _single_source_shortest_path_basic(G, s)\n\u001b[1;32m    131\u001b[0m     \u001b[39melse\u001b[39;00m:  \u001b[39m# use Dijkstra's algorithm\u001b[39;00m\n\u001b[1;32m    132\u001b[0m         S, P, sigma, _ \u001b[39m=\u001b[39m _single_source_dijkstra_path_basic(G, s, weight)\n",
      "File \u001b[0;32m~/miniconda3/envs/network/lib/python3.10/site-packages/networkx/algorithms/centrality/betweenness.py:275\u001b[0m, in \u001b[0;36m_single_source_shortest_path_basic\u001b[0;34m(G, s)\u001b[0m\n\u001b[1;32m    273\u001b[0m     Q\u001b[39m.\u001b[39mappend(w)\n\u001b[1;32m    274\u001b[0m     D[w] \u001b[39m=\u001b[39m Dv \u001b[39m+\u001b[39m \u001b[39m1\u001b[39m\n\u001b[0;32m--> 275\u001b[0m \u001b[39mif\u001b[39;00m D[w] \u001b[39m==\u001b[39m Dv \u001b[39m+\u001b[39m \u001b[39m1\u001b[39m:  \u001b[39m# this is a shortest path, count paths\u001b[39;00m\n\u001b[1;32m    276\u001b[0m     sigma[w] \u001b[39m+\u001b[39m\u001b[39m=\u001b[39m sigmav\n\u001b[1;32m    277\u001b[0m     P[w]\u001b[39m.\u001b[39mappend(v)  \u001b[39m# predecessors\u001b[39;00m\n",
      "\u001b[0;31mKeyboardInterrupt\u001b[0m: "
     ]
    }
   ],
   "source": [
    "betweenness = nx.betweenness_centrality(G, normalized=False)\n",
    "sorted(betweenness.items(), key=lambda x:x[1], reverse=True)[0:10]"
   ]
  },
  {
   "cell_type": "code",
   "execution_count": 6,
   "metadata": {},
   "outputs": [
    {
     "data": {
      "text/plain": [
       "[('Maud Joachim', 0.1158796417447297),\n",
       " ('Caroline A Downing', 0.11437066100686201),\n",
       " ('Kitty Marion', 0.11344996012448637),\n",
       " ('Mabel Capper', 0.10991776240126287),\n",
       " ('Annie Bell', 0.10834705221110301),\n",
       " ('Grace Chappelow', 0.10818185244249963),\n",
       " ('Winifred Mayo', 0.10803831965810348),\n",
       " ('Ellen Pitfield', 0.10518714292397999),\n",
       " ('Dorothy Agnes Bowker', 0.10493919222545887),\n",
       " ('Mrs Maud Fussell', 0.10490326319130666)]"
      ]
     },
     "execution_count": 6,
     "metadata": {},
     "output_type": "execute_result"
    }
   ],
   "source": [
    "eigenvector = nx.eigenvector_centrality(G)\n",
    "sorted(eigenvector.items(), key=lambda x:x[1], reverse=True)[0:10]"
   ]
  },
  {
   "cell_type": "code",
   "execution_count": 6,
   "metadata": {},
   "outputs": [
    {
     "data": {
      "text/plain": [
       "[('Maud Joachim', 0.5357241748956739),\n",
       " ('Caroline A Downing', 0.5009438937877011),\n",
       " ('Winifred Mayo', 0.5009438937877011),\n",
       " ('Mabel Capper', 0.5006919099377073),\n",
       " ('Kitty Marion', 0.49793672684150186),\n",
       " ('Ada Wright', 0.4898501559823633),\n",
       " ('Patricia Woodlock', 0.4886477746471095),\n",
       " ('Vera Wentworth', 0.48769011119851163),\n",
       " ('Evelyn Whurry', 0.4874512815652116),\n",
       " ('Annie Bell', 0.4869743233640714)]"
      ]
     },
     "execution_count": 6,
     "metadata": {},
     "output_type": "execute_result"
    }
   ],
   "source": [
    "closeness = nx.closeness_centrality(G)\n",
    "sorted(closeness.items(), key=lambda x:x[1], reverse=True)[0:10]"
   ]
  },
  {
   "cell_type": "code",
   "execution_count": 7,
   "metadata": {},
   "outputs": [
    {
     "data": {
      "text/plain": [
       "[('Maud Joachim', 19687),\n",
       " ('Caroline A Downing', 18201),\n",
       " ('Kitty Marion', 17696),\n",
       " ('Mabel Capper', 16811),\n",
       " ('Winifred Mayo', 16455),\n",
       " ('Annie Bell', 16065),\n",
       " ('Grace Chappelow', 16018),\n",
       " ('Ellen Pitfield', 14910),\n",
       " ('Mrs Maud Fussell', 14841),\n",
       " ('Dorothy Agnes Bowker', 14750)]"
      ]
     },
     "execution_count": 7,
     "metadata": {},
     "output_type": "execute_result"
    }
   ],
   "source": [
    "triangles = nx.triangles(G)\n",
    "sorted(triangles.items(), key=lambda x:x[1], reverse=True)[0:10]"
   ]
  },
  {
   "cell_type": "code",
   "execution_count": 8,
   "metadata": {},
   "outputs": [
    {
     "data": {
      "text/plain": [
       "[('Maud Joachim', 0.23595330552759),\n",
       " ('Caroline A Downing', 0.34999903851700864),\n",
       " ('Kitty Marion', 0.3670988486671507),\n",
       " ('Mabel Capper', 0.33992518451117176),\n",
       " ('Annie Bell', 0.4233201581027668),\n",
       " ('Grace Chappelow', 0.43461037551551984),\n",
       " ('Winifred Mayo', 0.3480477177545582),\n",
       " ('Ellen Pitfield', 0.4828993392926545),\n",
       " ('Dorothy Agnes Bowker', 0.5058125578683859),\n",
       " ('Mrs Maud Fussell', 0.5006071645415908)]"
      ]
     },
     "execution_count": 8,
     "metadata": {},
     "output_type": "execute_result"
    }
   ],
   "source": [
    "clustering = nx.clustering(G)\n",
    "[(x, clustering[x]) for x in sorted(people, key=lambda x:eigenvector[x], reverse=True)[0:10]]"
   ]
  },
  {
   "cell_type": "code",
   "execution_count": null,
   "metadata": {},
   "outputs": [],
   "source": []
  }
 ],
 "metadata": {
  "kernelspec": {
   "display_name": "Python 3.10.4 ('network')",
   "language": "python",
   "name": "python3"
  },
  "language_info": {
   "codemirror_mode": {
    "name": "ipython",
    "version": 3
   },
   "file_extension": ".py",
   "mimetype": "text/x-python",
   "name": "python",
   "nbconvert_exporter": "python",
   "pygments_lexer": "ipython3",
   "version": "3.10.4"
  },
  "vscode": {
   "interpreter": {
    "hash": "e551c23d10bfa806af7dc177faa475c864162584b2737b76ae49bb1fe4eea4ac"
   }
  }
 },
 "nbformat": 4,
 "nbformat_minor": 2
}
