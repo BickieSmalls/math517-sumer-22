{
 "cells": [
  {
   "cell_type": "code",
   "execution_count": null,
   "metadata": {},
   "outputs": [],
   "source": [
    "import networkx as nx\n",
    "import matplotlib.pyplot as plt"
   ]
  },
  {
   "cell_type": "code",
   "execution_count": null,
   "metadata": {},
   "outputs": [],
   "source": [
    "\n",
    "G = nx.DiGraph()\n",
    "G.add_edges_from(\n",
    "    [('A', 'B'), ('A', 'C'), ('D', 'B'), ('E', 'C'), ('E', 'F'),\n",
    "     ('B', 'H'), ('B', 'G'), ('B', 'F'), ('C', 'G')])\n",
    "\n",
    "val_map = {'A': 1.0,\n",
    "           'D': 0.5714285714285714,\n",
    "           'H': 0.0}\n",
    "\n",
    "values = [val_map.get(node, 0.25) for node in G.nodes()]"
   ]
  },
  {
   "cell_type": "code",
   "execution_count": null,
   "metadata": {},
   "outputs": [],
   "source": [
    "# Specify the edges you want here\n",
    "red_edges = [('A', 'C'), ('E', 'C')]\n",
    "edge_colours = ['black' if not edge in red_edges else 'red'\n",
    "                for edge in G.edges()]\n",
    "black_edges = [edge for edge in G.edges() if edge not in red_edges]"
   ]
  },
  {
   "cell_type": "code",
   "execution_count": null,
   "metadata": {},
   "outputs": [],
   "source": [
    "# Need to create a layout when doing\n",
    "# separate calls to draw nodes and edges\n",
    "pos = nx.spring_layout(G)\n",
    "nx.draw_networkx_nodes(G, pos, cmap=plt.get_cmap('jet'), \n",
    "                       node_color = values, node_size = 500)\n",
    "nx.draw_networkx_labels(G, pos)\n",
    "nx.draw_networkx_edges(G, pos, edgelist=red_edges, edge_color='r', arrows=True)\n",
    "nx.draw_networkx_edges(G, pos, edgelist=black_edges, arrows=False)\n",
    "plt.show()"
   ]
  }
 ],
 "metadata": {
  "interpreter": {
   "hash": "e551c23d10bfa806af7dc177faa475c864162584b2737b76ae49bb1fe4eea4ac"
  },
  "kernelspec": {
   "display_name": "Python 3.10.4 ('network')",
   "language": "python",
   "name": "python3"
  },
  "language_info": {
   "name": "python",
   "version": "3.10.4"
  },
  "orig_nbformat": 4
 },
 "nbformat": 4,
 "nbformat_minor": 2
}
